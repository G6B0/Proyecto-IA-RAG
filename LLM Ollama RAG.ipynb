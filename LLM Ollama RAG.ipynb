{
 "cells": [
  {
   "cell_type": "code",
   "execution_count": 1,
   "id": "ba306d95-3e79-4f54-b130-a5cb45cb94e3",
   "metadata": {},
   "outputs": [],
   "source": [
    "#Se debe tener instalado Ollama de manera local para que corra\n",
    "from langchain_ollama import ChatOllama\n",
    "\n",
    "llm= ChatOllama(model=\"llama3:8b\")"
   ]
  },
  {
   "cell_type": "code",
   "execution_count": 2,
   "id": "99de3c6e-7dd5-46b9-b9b1-8b7fca57c2c5",
   "metadata": {},
   "outputs": [],
   "source": [
    "from langchain_ollama import OllamaEmbeddings\n",
    "\n",
    "embeddings = OllamaEmbeddings(model=\"nomic-embed-text\")"
   ]
  },
  {
   "cell_type": "markdown",
   "id": "4b9765f7-400a-41ce-bc1b-a1fa00d800c5",
   "metadata": {},
   "source": [
    "Ahora definiremos una manera de guardar la información de forma vectorial"
   ]
  },
  {
   "cell_type": "code",
   "execution_count": 3,
   "id": "b2164aad-5999-4355-9a54-a32a43800691",
   "metadata": {},
   "outputs": [],
   "source": [
    "#De manera local\n",
    "from langchain_core.vectorstores import InMemoryVectorStore\n",
    "\n",
    "vector_store = InMemoryVectorStore(embeddings)"
   ]
  },
  {
   "cell_type": "markdown",
   "id": "ee56e254-1064-4179-ab0a-7ffe1e2851f8",
   "metadata": {},
   "source": [
    "Ahora crearemos la base de datos en base a Ley_Consumidor.csv"
   ]
  },
  {
   "cell_type": "code",
   "execution_count": 4,
   "id": "b37012e7-3741-4528-bd2c-c7072f50260b",
   "metadata": {},
   "outputs": [],
   "source": [
    "from langchain_core.documents import Document\n",
    "from langchain_text_splitters import RecursiveCharacterTextSplitter\n",
    "\n",
    "def Cargar_documentos_csv(df):\n",
    "    splitter = RecursiveCharacterTextSplitter( chunk_size = 1000, chunk_overlap=100, add_start_index=True)\n",
    "\n",
    "    documents = []\n",
    "    for index, columna in df.iterrows():\n",
    "        Texto_articulo = columna['Texto_articulo']\n",
    "        articulo = str(columna['Articulo'])\n",
    "        \n",
    "        if len(Texto_articulo) > 1000:\n",
    "            splits = splitter.split_text(Texto_articulo)\n",
    "            for split in splits:\n",
    "                documents.append(\n",
    "                    Document( page_content =split, metadata={'Articulo': articulo})\n",
    "                )\n",
    "        else:\n",
    "            documents.append(\n",
    "                Document( page_content =Texto_articulo, metadata= {'Articulo': articulo})\n",
    "            )\n",
    "    return documents"
   ]
  },
  {
   "cell_type": "code",
   "execution_count": 5,
   "id": "5935ca72-8282-4d71-bae0-52b4518f03c3",
   "metadata": {},
   "outputs": [
    {
     "name": "stdout",
     "output_type": "stream",
     "text": [
      "5016\n",
      "3128\n",
      "1119\n",
      "501\n",
      "4903\n",
      "4253\n",
      "2801\n",
      "292\n",
      "491\n",
      "645\n",
      "977\n",
      "2467\n",
      "2078\n",
      "672\n",
      "1237\n",
      "1943\n",
      "606\n",
      "264\n",
      "1156\n",
      "365\n",
      "1418\n",
      "1327\n",
      "205\n",
      "998\n",
      "753\n",
      "656\n",
      "2787\n",
      "508\n",
      "352\n",
      "2613\n",
      "491\n",
      "267\n",
      "270\n",
      "1984\n",
      "1827\n",
      "3580\n",
      "577\n",
      "11312\n",
      "748\n",
      "274\n",
      "1285\n",
      "2633\n",
      "1048\n",
      "910\n",
      "326\n",
      "480\n",
      "1229\n",
      "161\n",
      "336\n",
      "3163\n",
      "4976\n",
      "622\n",
      "849\n",
      "1398\n",
      "5003\n",
      "1950\n",
      "1260\n",
      "1502\n",
      "1498\n",
      "739\n",
      "1216\n",
      "318\n",
      "755\n",
      "321\n",
      "2697\n",
      "1350\n",
      "1350\n",
      "498\n",
      "645\n",
      "679\n",
      "470\n",
      "9007\n",
      "203\n",
      "363\n",
      "915\n",
      "1416\n",
      "527\n",
      "949\n",
      "1194\n",
      "298\n",
      "473\n",
      "200\n",
      "1120\n",
      "527\n",
      "809\n",
      "392\n",
      "731\n",
      "1789\n",
      "2451\n",
      "865\n",
      "493\n",
      "1650\n",
      "549\n",
      "1002\n",
      "855\n",
      "717\n",
      "3875\n",
      "573\n",
      "10673\n",
      "6253\n",
      "4429\n",
      "422\n",
      "3400\n",
      "3850\n",
      "1761\n",
      "1264\n",
      "587\n",
      "1373\n",
      "265\n",
      "1180\n",
      "1353\n",
      "649\n",
      "2132\n",
      "273\n",
      "928\n",
      "923\n",
      "372\n",
      "1090\n",
      "1005\n",
      "1629\n",
      "1818\n",
      "2510\n",
      "707\n",
      "653\n",
      "2770\n",
      "1023\n",
      "883\n",
      "2345\n",
      "469\n",
      "1529\n",
      "2848\n",
      "3826\n",
      "2097\n",
      "2433\n",
      "3713\n",
      "1302\n",
      "472\n",
      "912\n",
      "1362\n",
      "14324\n",
      "1407\n",
      "6464\n",
      "841\n",
      "1348\n",
      "1380\n",
      "102\n",
      "14270\n"
     ]
    }
   ],
   "source": [
    "import pandas as pd\n",
    "\n",
    "df = pd.read_csv(\"Ley_consumidor.csv\")\n",
    "\n",
    "i=0\n",
    "while i!= 147:\n",
    "    print(len(df.iloc[i]['Texto_articulo']))\n",
    "    i = i + 1\n"
   ]
  },
  {
   "cell_type": "code",
   "execution_count": 6,
   "id": "1e2fd101-48f0-425d-acd4-390194e6c20a",
   "metadata": {},
   "outputs": [
    {
     "name": "stdout",
     "output_type": "stream",
     "text": [
      "Total characters: 501\n"
     ]
    }
   ],
   "source": [
    "#Haremos split en chunks y cargaremos en documentos el DataFrame\n",
    "docs = Cargar_documentos_csv(df)\n",
    "print(f\"Total characters: {len(docs[12].page_content)}\")"
   ]
  },
  {
   "cell_type": "markdown",
   "id": "1348f11d-24ae-4a5a-9790-0d96fadd39e6",
   "metadata": {},
   "source": [
    "Donde podemos ver que en la posicion 12 de docs encontramos el articulo N°2 ter del DataFrame"
   ]
  },
  {
   "cell_type": "code",
   "execution_count": 7,
   "id": "3ae9698e-2257-43fd-b8f1-c4552464f4cb",
   "metadata": {},
   "outputs": [
    {
     "name": "stdout",
     "output_type": "stream",
     "text": [
      "page_content='Las  Ley 21398 Art. 1 N° 2 D.O. 24.12.2021 normas contenidas en esta ley se interpretarán siempre en favor de los consumidores, de acuerdo con el principio pro consumidor, y, de manera complementaria, según las reglas contenidas en el párrafo 4° del Título Preliminar del Código Civil. TÍTU Ley N° 19.496 D.O. 07.03.1997 LO II      Disposiciones Ley N° 19.496 D.O. 07.03.1997  generales Párrafo 1º Ley N° 19.496 D.O. 07.03.1997      Los derechos Ley N° 19.496 D.O. 07.03.1997  y deberes del consumidor' metadata={'Articulo': 'Artículo 2 ter.-'}\n"
     ]
    }
   ],
   "source": [
    "print(docs[12])"
   ]
  },
  {
   "cell_type": "markdown",
   "id": "da7f8e64-dc66-4193-bed6-78066f8d2074",
   "metadata": {},
   "source": [
    "Guardando los documentos"
   ]
  },
  {
   "cell_type": "code",
   "execution_count": 8,
   "id": "1b6d66a1-d89a-4599-99b2-49238f74a067",
   "metadata": {},
   "outputs": [
    {
     "name": "stdout",
     "output_type": "stream",
     "text": [
      "['e4afbf6a-01e0-48e4-8250-b3bc76c5682c', '0ca45bc5-6619-47f7-ae59-3949f429f91c', '098e1b51-9c3d-43c9-b48d-f602cbd38b71']\n"
     ]
    }
   ],
   "source": [
    "docs_ids = vector_store.add_documents(documents=docs)\n",
    "\n",
    "print(docs_ids[:3])"
   ]
  },
  {
   "cell_type": "markdown",
   "id": "adc215af-259a-42dd-b71b-588dbecb6ed1",
   "metadata": {},
   "source": [
    "Ahora iniciaremos con el Retrieval and Generation (RG)"
   ]
  },
  {
   "cell_type": "markdown",
   "id": "cd7fb33d-ead3-4a25-bc53-288adc679a69",
   "metadata": {},
   "source": [
    "Definimos el Prompt"
   ]
  },
  {
   "cell_type": "code",
   "execution_count": 16,
   "id": "ef0cc1ec-7d3d-4d8b-b06b-5eeb27f502be",
   "metadata": {},
   "outputs": [],
   "source": [
    "from langchain_core.prompts import ChatPromptTemplate\n",
    "\n",
    "prompt = ChatPromptTemplate.from_template(\"\"\"\n",
    "Responde con base en el siguiente **contexto legal** extraído de la Ley del Consumidor en Chile.\n",
    "\n",
    "----------------\n",
    "{context}\n",
    "----------------\n",
    "\n",
    "Pregunta:\n",
    "{question}\n",
    "\n",
    "Instrucciones:\n",
    "- Utiliza lenguaje claro pero jurídicamente preciso.\n",
    "\n",
    "Respuesta:\n",
    "\"\"\")"
   ]
  },
  {
   "cell_type": "markdown",
   "id": "1389badb-3a61-4c6b-9abf-7fb2bf837ecb",
   "metadata": {},
   "source": [
    "Estado y funciones de RAG"
   ]
  },
  {
   "cell_type": "code",
   "execution_count": 25,
   "id": "b49caaea-7c73-443c-9d84-ff79ce7070d6",
   "metadata": {},
   "outputs": [],
   "source": [
    "from typing import TypedDict, List\n",
    "\n",
    "class State(TypedDict):\n",
    "    question: str\n",
    "    context: List[Document]\n",
    "    answer: str\n",
    "\n",
    "def retrieve(state: State):\n",
    "    pregunta = state[\"question\"]\n",
    "    retrieved_docs = vector_store.similarity_search(pregunta)\n",
    "    return {\"context\": retrieved_docs}\n",
    "\n",
    "def retrieve1(state: State):\n",
    "    pregunta = state[\"question\"]\n",
    "    retrieved_docs1 = vector_store1.similarity_search(pregunta)\n",
    "    return {\"context\": retrieved_docs1}\n",
    "    \n",
    "\n",
    "def generate(state: State):\n",
    "    if not state[\"context\"]:\n",
    "        return {\"answer\": \"No tengo suficiente contexto para responder.\"}\n",
    "    \n",
    "    # 🔁 Eliminar duplicados por contenido\n",
    "    unique_docs = []\n",
    "    seen_contents = set()\n",
    "    for doc in state[\"context\"]:\n",
    "        if doc.page_content not in seen_contents:\n",
    "            unique_docs.append(doc)\n",
    "            seen_contents.add(doc.page_content)\n",
    "\n",
    "    # Unir contenido limpio\n",
    "    docs_content = \"\\n\\n\".join(\n",
    "    f\"[{doc.metadata.get('Articulo', 'Sin Artículo')}] {doc.page_content}\"\n",
    "    for doc in unique_docs\n",
    "    )\n",
    "    \n",
    "    final_prompt = prompt.invoke({\n",
    "        \"question\": state[\"question\"],\n",
    "        \"context\": docs_content\n",
    "    })\n",
    "\n",
    "    response = llm.invoke(final_prompt)\n",
    "    \n",
    "    # Agregar metadata de artículos como fuentes\n",
    "    articles = set()\n",
    "    for doc in unique_docs:\n",
    "        metadata = getattr(doc, \"metadata\", {})\n",
    "        articulo = metadata.get(\"Articulo\")\n",
    "        if articulo:\n",
    "            articles.add(articulo)\n",
    "    \n",
    "    sources = \"\\n\\nArtículos utilizados como fuente:\\n\" + \"\\n\".join(f\"- {a}\" for a in sorted(articles))\n",
    "    \n",
    "    return {\"answer\": f\"{response.content.strip()}\\n\\n{sources.strip()}\"}"
   ]
  },
  {
   "cell_type": "code",
   "execution_count": 26,
   "id": "0c63c456-e31c-4c19-bb9f-d4fe623587c1",
   "metadata": {},
   "outputs": [
    {
     "name": "stdout",
     "output_type": "stream",
     "text": [
      "Según la Ley del Consumidor en Chile (Ley N° 19.496), el consumidor tiene los siguientes derechos cuando se enfrenta con productos defectuosos:\n",
      "\n",
      "1. **Reposición**: El consumidor puede optar por la reposición del producto, es decir, recibir un nuevo producto que cumpla con las características indicadas en el envase o empaque.\n",
      "2. **Bonificación**: En caso de no ser posible la reposición, el consumidor puede elegir recibir bonificación en la compra de otro producto, lo que significa obtener una compensación por el valor del producto defectuoso.\n",
      "3. **Devolución del precio pagado**: El consumidor tiene derecho a recibir devolución del precio que pagó en exceso, es decir, el valor del producto menos el valor del producto defectuoso.\n",
      "\n",
      "Además, si el producto se vende con garantía, el plazo para ejercer este derecho será el establecido por la garantía, siempre y cuando sea mayor a los 6 meses siguientes a la fecha en que se recibió el producto (Artículo 21).\n",
      "\n",
      "Es importante destacar que estos derechos son **irrenunciables anticipadamente**, lo que significa que el consumidor no puede renunciar a ellos previamente.\n",
      "\n",
      "Artículos utilizados como fuente:\n",
      "- Artículo 19.-\n",
      "- Artículo 21.-\n",
      "- Artículo 22.-\n",
      "- Artículo 4°.-\n"
     ]
    }
   ],
   "source": [
    "state = {\"question\":\"¿Qué derechos tiene el consumidor frente a productos defectuosos?\",\n",
    "         \"context\": [],\n",
    "         \"answer\": \"\"\n",
    "        }\n",
    "\n",
    "# 2. Llamar a la función `generate()` para obtener la respuesta\n",
    "state.update(retrieve(state))\n",
    "state.update(generate(state))\n",
    "\n",
    "print(state[\"answer\"])\n"
   ]
  },
  {
   "cell_type": "markdown",
   "id": "0be3186d-d789-4163-8f48-5fdb5915a72b",
   "metadata": {},
   "source": [
    "Ahora veremos si tenemos alguna mejora con el Csv limpio"
   ]
  },
  {
   "cell_type": "code",
   "execution_count": 12,
   "id": "558e6f6f-a931-46f0-b851-817bf1c70611",
   "metadata": {},
   "outputs": [
    {
     "name": "stdout",
     "output_type": "stream",
     "text": [
      "Total characters: 995\n"
     ]
    }
   ],
   "source": [
    "import pandas as pd\n",
    "\n",
    "df1 = pd.read_csv(\"Ley_consumidor_limpio.csv\")\n",
    "\n",
    "#Haremos split en chunks y cargaremos en documentos el DataFrame\n",
    "docs1 = Cargar_documentos_csv(df1)\n",
    "print(f\"Total characters: {len(docs1[12].page_content)}\")"
   ]
  },
  {
   "cell_type": "code",
   "execution_count": 13,
   "id": "37afcf1b-56f6-417a-83db-9944d1b34ed4",
   "metadata": {},
   "outputs": [
    {
     "name": "stdout",
     "output_type": "stream",
     "text": [
      "page_content='total del crédito, a su solo requerimiento. g) Acudir siempre ante el tribunal competente conforme a las disposiciones establecidas en esta ley. El proveedor debe NOTA 1 informar al consumidor de este derecho al celebrar el contrato y en el momento de surgir cualquier controversia, queja o reclamación. Toda estipulación en contrario constituye una infracción y se tendrá por no escrita. Sólo una vez surgido el conflicto, las partes podrán someterlo a mediación, conciliación o arbitraje. Los proveedores deben informar la naturaleza de cada uno de los mecanismos ofrecidos, los cuales serán gratuitos y sólo se iniciarán por voluntad expresa del consumidor, la que deberá constar por escrito. Un reglamento dictado por el Ministerio de Economía, Fomento y Turismo establecerá las normas que sean necesarias para la adecuada aplicación de los mecanismos a que se refiere este párrafo. Los proveedores financieros y no financieros podrán adscribir y ofrecer libremente el Sistema de Solución de' metadata={'Articulo': 'Artículo 3'}\n"
     ]
    }
   ],
   "source": [
    "print(docs1[12])"
   ]
  },
  {
   "cell_type": "code",
   "execution_count": 14,
   "id": "afc27514-fd6b-4438-818b-e38574071282",
   "metadata": {},
   "outputs": [
    {
     "name": "stdout",
     "output_type": "stream",
     "text": [
      "['09e11e4d-b97e-4ef7-917f-62b01804eef2', '9d8e73cb-2f28-45b6-a56d-5d0986e909e8', '2609d733-a9ca-4c3a-b8d9-4bc2b305f3e8']\n"
     ]
    }
   ],
   "source": [
    "vector_store1 = InMemoryVectorStore(embeddings)\n",
    "\n",
    "docs_ids1 = vector_store1.add_documents(documents=docs1)\n",
    "\n",
    "print(docs_ids1[:3])"
   ]
  },
  {
   "cell_type": "code",
   "execution_count": 30,
   "id": "2902f48b-fd23-4ae0-bdb9-a700ee55e7ba",
   "metadata": {},
   "outputs": [
    {
     "name": "stdout",
     "output_type": "stream",
     "text": [
      "De acuerdo al contexto legal establecido en la Ley del Consumidor de Chile, el consumidor tiene los siguientes derechos frente a productos defectuosos:\n",
      "\n",
      "1. **Reposición o bonificación**: El consumidor tiene derecho a optar entre la reposición del producto o la bonificación de su valor para adquirir otro producto (Artículo 19).\n",
      "2. **Reparación gratuita**: En caso de defectos en los productos sujetos a normas de seguridad o calidad, el consumidor tiene derecho a optar entre la reparación gratuita o la reposición del producto o devolución del precio pagado (Artículo 20).\n",
      "3. **Devolution of the price paid**: Si el producto no cumple con las especificaciones correspondientes, el consumidor puede optar por la devolución del precio pagado en exceso.\n",
      "4. **Indemnización por daños ocasionados**: El consumidor tiene derecho a recibir indemnización por los daños causados por un producto defectuoso (Artículo 20).\n",
      "5. **Plazo para ejercer derechos**: El consumidor debe ejercer sus derechos dentro de un plazo de seis meses desde la fecha en que se recibe el producto, siempre que éste no se haya deteriorado por hecho imputable al consumidor (Artículo 21).\n",
      "\n",
      "En resumen, los derechos del consumidor frente a productos defectuosos son la reposición o bonificación, reparación gratuita, devolución del precio pagado y indemnización por daños ocasionados.\n",
      "\n",
      "Artículos utilizados como fuente:\n",
      "- Artículo 19\n",
      "- Artículo 20\n",
      "- Artículo 21\n",
      "- Artículo 51\n"
     ]
    }
   ],
   "source": [
    "state = {\"question\":\"¿Qué derechos tiene el consumidor frente a productos defectuosos?\",\n",
    "         \"context\": [],\n",
    "         \"answer\": \"\"\n",
    "        }\n",
    "\n",
    "# 2. Llamar a la función `generate()` para obtener la respuesta\n",
    "state.update(retrieve1(state))\n",
    "state.update(generate(state))\n",
    "\n",
    "print(state[\"answer\"])\n"
   ]
  },
  {
   "cell_type": "code",
   "execution_count": null,
   "id": "c962b43c-f4ff-473b-8d72-b19703087cad",
   "metadata": {},
   "outputs": [],
   "source": []
  }
 ],
 "metadata": {
  "kernelspec": {
   "display_name": "Python 3 (ipykernel)",
   "language": "python",
   "name": "python3"
  },
  "language_info": {
   "codemirror_mode": {
    "name": "ipython",
    "version": 3
   },
   "file_extension": ".py",
   "mimetype": "text/x-python",
   "name": "python",
   "nbconvert_exporter": "python",
   "pygments_lexer": "ipython3",
   "version": "3.13.0"
  }
 },
 "nbformat": 4,
 "nbformat_minor": 5
}
