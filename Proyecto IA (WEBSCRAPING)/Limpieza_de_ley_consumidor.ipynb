{
 "cells": [
  {
   "cell_type": "code",
   "execution_count": 1,
   "id": "45ecc6c9-4ed9-4e56-84d8-f25c8457849f",
   "metadata": {},
   "outputs": [],
   "source": [
    "import re\n",
    "def limpiar_csv(texto):\n",
    "    texto = re.sub(r'Art\\. \\d+ D\\.O\\. \\d{2}\\.\\d{2}\\.\\d{4} Artículo \\d+\\.-\\s*', '', texto)\n",
    "    texto = re.sub(r'\\s*Ley N° \\d{2}\\.\\d{3} Art\\. [^D]+ D\\.O\\. \\d{2}\\.\\d{2}\\.\\d{4}', '', texto)\n",
    "    texto = re.sub(r'\\s*Ley N° \\d{2}\\.\\d{3} Art\\. \\d+ N° \\d+ D\\.O\\. \\d{4}', '',texto)\n",
    "    texto = re.sub(r'\\s*Ley(?: N°)? (?:\\d{2}\\.\\d{3}|\\d{5}) Art\\. [^D]+ N° \\d+\\)?(?: [^\\dD\\.]+)? D\\.O\\. \\d{2}\\.\\d{2}\\.\\d{4}', '', texto)\n",
    "    texto = re.sub(r'\\s*Ley N° \\d{2}\\.\\d{3} Art\\. \\w+ N° \\d+\\) letra [a-z]\\) D\\.O\\. \\d{2}\\.\\d{2}\\.\\d{4}', '',texto)\n",
    "    texto = re.sub(r'\\s*Ley N° \\d{2}\\.\\d{3} D\\.O\\. \\d{2}\\.\\d{2}\\.\\d{4}', '',texto)\n",
    "    texto = re.sub(r'\\s*Ley N° \\d{2}\\.\\d{3} Art\\. \\d+ D\\.O\\. \\d{2}\\.\\d{2}\\.\\d{4}', '',texto)\n",
    "    texto = re.sub(r'\\s{2,}', ' ', texto)\n",
    "    return texto.strip(\" .,-\\n\")\n",
    "    \n",
    "def limpiar_articulo(texto):\n",
    "    texto = re.sub(r'(\\d)°', r'\\1', texto)\n",
    "    texto = re.sub(r'\\.-', '', texto)\n",
    "    texto = re.sub(r'\\s{2,}', ' ', texto).strip()\n",
    "\n",
    "    return texto.strip(\"\\n\")"
   ]
  },
  {
   "cell_type": "code",
   "execution_count": 5,
   "id": "ab665d63-d380-40b2-b5ee-a07aeec5c7b7",
   "metadata": {},
   "outputs": [
    {
     "data": {
      "text/html": [
       "<div>\n",
       "<style scoped>\n",
       "    .dataframe tbody tr th:only-of-type {\n",
       "        vertical-align: middle;\n",
       "    }\n",
       "\n",
       "    .dataframe tbody tr th {\n",
       "        vertical-align: top;\n",
       "    }\n",
       "\n",
       "    .dataframe thead th {\n",
       "        text-align: right;\n",
       "    }\n",
       "</style>\n",
       "<table border=\"1\" class=\"dataframe\">\n",
       "  <thead>\n",
       "    <tr style=\"text-align: right;\">\n",
       "      <th></th>\n",
       "      <th>Articulo</th>\n",
       "      <th>Texto_articulo</th>\n",
       "    </tr>\n",
       "  </thead>\n",
       "  <tbody>\n",
       "    <tr>\n",
       "      <th>0</th>\n",
       "      <td>Artículo 1</td>\n",
       "      <td>La presente ley tiene por objeto normar las re...</td>\n",
       "    </tr>\n",
       "    <tr>\n",
       "      <th>1</th>\n",
       "      <td>Artículo 2</td>\n",
       "      <td>Quedan sujetos a las disposiciones de esta ley...</td>\n",
       "    </tr>\n",
       "    <tr>\n",
       "      <th>2</th>\n",
       "      <td>Artículo 2 bis</td>\n",
       "      <td>No obstante lo prescrito en el artículo anteri...</td>\n",
       "    </tr>\n",
       "    <tr>\n",
       "      <th>3</th>\n",
       "      <td>Artículo 2 ter</td>\n",
       "      <td>Las normas contenidas en esta ley se interpret...</td>\n",
       "    </tr>\n",
       "    <tr>\n",
       "      <th>4</th>\n",
       "      <td>Artículo 3</td>\n",
       "      <td>Son derechos y deberes básicos del consumidor:...</td>\n",
       "    </tr>\n",
       "    <tr>\n",
       "      <th>...</th>\n",
       "      <td>...</td>\n",
       "      <td>...</td>\n",
       "    </tr>\n",
       "    <tr>\n",
       "      <th>142</th>\n",
       "      <td>Artículo 59 bis</td>\n",
       "      <td>El personal del Servicio habilitado como fisca...</td>\n",
       "    </tr>\n",
       "    <tr>\n",
       "      <th>143</th>\n",
       "      <td>Artículo 59 ter</td>\n",
       "      <td>Los funcionarios y demás personas que presten ...</td>\n",
       "    </tr>\n",
       "    <tr>\n",
       "      <th>144</th>\n",
       "      <td>Artículo 60</td>\n",
       "      <td>El patrimonio del Servicio Nacional del Consum...</td>\n",
       "    </tr>\n",
       "    <tr>\n",
       "      <th>145</th>\n",
       "      <td>Artículo 61</td>\n",
       "      <td>Las mu ltas a que se refiere esta ley serán de...</td>\n",
       "    </tr>\n",
       "    <tr>\n",
       "      <th>146</th>\n",
       "      <td>Artículo 62</td>\n",
       "      <td>El Ministerio de Economía, Fomento y Turismo d...</td>\n",
       "    </tr>\n",
       "  </tbody>\n",
       "</table>\n",
       "<p>147 rows × 2 columns</p>\n",
       "</div>"
      ],
      "text/plain": [
       "            Articulo                                     Texto_articulo\n",
       "0         Artículo 1  La presente ley tiene por objeto normar las re...\n",
       "1         Artículo 2  Quedan sujetos a las disposiciones de esta ley...\n",
       "2     Artículo 2 bis  No obstante lo prescrito en el artículo anteri...\n",
       "3     Artículo 2 ter  Las normas contenidas en esta ley se interpret...\n",
       "4         Artículo 3  Son derechos y deberes básicos del consumidor:...\n",
       "..               ...                                                ...\n",
       "142  Artículo 59 bis  El personal del Servicio habilitado como fisca...\n",
       "143  Artículo 59 ter  Los funcionarios y demás personas que presten ...\n",
       "144      Artículo 60  El patrimonio del Servicio Nacional del Consum...\n",
       "145      Artículo 61  Las mu ltas a que se refiere esta ley serán de...\n",
       "146      Artículo 62  El Ministerio de Economía, Fomento y Turismo d...\n",
       "\n",
       "[147 rows x 2 columns]"
      ]
     },
     "execution_count": 5,
     "metadata": {},
     "output_type": "execute_result"
    }
   ],
   "source": [
    "import pandas as pd\n",
    "\n",
    "df = pd.read_csv(\"Ley_consumidor.csv\")\n",
    "Texto = df\n",
    "\n",
    "Texto['Texto_articulo'] = Texto['Texto_articulo'].apply(limpiar_csv)\n",
    "Texto['Texto_articulo'] = Texto['Texto_articulo'].apply(limpiar_csv)\n",
    "\n",
    "Texto['Articulo'] = Texto['Articulo'].apply(limpiar_articulo)\n",
    "\n",
    "Texto"
   ]
  },
  {
   "cell_type": "code",
   "execution_count": 9,
   "id": "f7e84c85-1fa6-4098-b8f9-915149458b41",
   "metadata": {},
   "outputs": [],
   "source": [
    "Texto.to_csv(\"Ley_consumidor_limpio.csv\", index=False)"
   ]
  },
  {
   "cell_type": "code",
   "execution_count": 10,
   "id": "427a67b5-35d7-4da1-8f38-c15f8be33e4a",
   "metadata": {},
   "outputs": [
    {
     "data": {
      "text/plain": [
       "'Quedan sujetos a las disposiciones de esta ley: a) Los actos jurídicos que, de conformidad a lo preceptuado en el Código de Comercio u otras disposiciones legales, tengan el carácter de mercantiles para el proveedor y civiles para el consumidor; b) Los actos de comercialización de sepulcros o sepulturas; c) Los actos o contratos en que el proveedor se obligue a suministrar al consumidor o usuario el uso o goce de un inmueble por períodos determinados, continuos o discontinuos, no superiores a tres meses, siempre que lo sean amoblados y para fines de descanso o turismo; d) Los contratos de educación de la enseñanza básica, media, técnico profesional y universitaria, sólo respecto del Párrafo 4º del Título II; de los Párrafos 1º y 2º del Título III; de los artículos 18, 24, 26, 27 y 39 C, y respecto de la facultad del o de los usuarios para recurrir ante los tribunales correspondientes, conforme a los procedimientos que esta ley establece, para hacer efectivos los derechos que dichos Párrafos y artículos les confieren. No quedará sujeto a esta ley el derecho a recurrir ante los tribunales de justicia por la calidad de la educación o por las condiciones académicas fijadas en los reglamentos internos vigentes a la época del ingreso a la carrera o programa respectivo, los cuales no podrán ser alterados sustancialmente, en forma arbitraria, sin perjuicio de las obligaciones de dar fiel cumplimiento a los términos, condiciones y modalidades ofrecidas por las entidades de educación; e) Los contratos de venta de viviendas realizadas por empresas constructoras, inmobiliarias y por los Servicios de Vivienda y Urbanización, en lo que no diga relación con las normas sobre calidad contenidas en la ley Nº 19.472, y f) Los actos celebrados o ejecutados con ocasión de la contratación de servicios en el ámbito de la salud, con exclusión de las prestaciones de salud; de las materias relativas a la calidad de éstas y su financiamiento a través de fondos o seguros de salud; de la acreditación y certificación de los prestadores, sean éstos públicos o privados, individuales o institucionales y, en general, de cualquiera otra materia que se encuentre regulada en leyes especiales'"
      ]
     },
     "execution_count": 10,
     "metadata": {},
     "output_type": "execute_result"
    }
   ],
   "source": [
    "Texto['Texto_articulo'][1]"
   ]
  },
  {
   "cell_type": "code",
   "execution_count": null,
   "id": "759bb9da-b0fd-4afd-a0e1-880370b7a3bd",
   "metadata": {},
   "outputs": [],
   "source": []
  }
 ],
 "metadata": {
  "kernelspec": {
   "display_name": "Python 3 (ipykernel)",
   "language": "python",
   "name": "python3"
  },
  "language_info": {
   "codemirror_mode": {
    "name": "ipython",
    "version": 3
   },
   "file_extension": ".py",
   "mimetype": "text/x-python",
   "name": "python",
   "nbconvert_exporter": "python",
   "pygments_lexer": "ipython3",
   "version": "3.13.0"
  }
 },
 "nbformat": 4,
 "nbformat_minor": 5
}
