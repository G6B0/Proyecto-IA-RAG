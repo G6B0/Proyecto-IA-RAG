{
 "cells": [
  {
   "cell_type": "code",
   "execution_count": 112,
   "id": "86bf18a3-5854-4b6a-91e6-a0448c72f2ae",
   "metadata": {},
   "outputs": [],
   "source": [
    "from langchain_text_splitters import RecursiveCharacterTextSplitter\n",
    "\n",
    "# Configuración del splitter\n",
    "splitter = RecursiveCharacterTextSplitter(\n",
    "    chunk_size=1000,  # Tamaño del fragmento en caracteres (ajusta según tu necesidad)\n",
    "    chunk_overlap=100  # Superposición para mantener contexto entre fragmentos\n",
    ")\n"
   ]
  },
  {
   "cell_type": "code",
   "execution_count": 114,
   "id": "6f0dbafa-b347-4db2-9efc-3f3ebb6284ba",
   "metadata": {},
   "outputs": [
    {
     "name": "stdout",
     "output_type": "stream",
     "text": [
      "El artículo más largo tiene 14324 caracteres.\n",
      "Texto del artículo más largo: El S Ley N° 19.496 Art. 58 D.O. 07.03.1997 ervicio Nacional del Consumidor deberá velar por el cumpl...\n"
     ]
    }
   ],
   "source": [
    "max_length = 0\n",
    "max_article = \"\"\n",
    "\n",
    "for index, row in df.iterrows():\n",
    "    article_text = row['Texto_articulo']\n",
    "    article_length = len(article_text)  # Obtener la longitud del artículo\n",
    "\n",
    "    if article_length > max_length:\n",
    "        max_length = article_length\n",
    "        max_article = article_text  # Guardar el artículo más largo\n",
    "\n",
    "# Mostrar el artículo más largo y su longitud\n",
    "print(f\"El artículo más largo tiene {max_length} caracteres.\")\n",
    "print(f\"Texto del artículo más largo: {max_article[:100]}...\")"
   ]
  },
  {
   "cell_type": "code",
   "execution_count": 125,
   "id": "b44cb0f4-4597-4b0e-8f23-fa4fb4d70f86",
   "metadata": {},
   "outputs": [],
   "source": [
    "import pandas as pd\n",
    "from langchain_core.documents import Document\n",
    "\n",
    "df = pd.read_csv(\"Ley_consumidor.csv\")\n",
    "# Crear documentos y dividir los artículos largos\n",
    "documents = []\n",
    "for index, row in df.iterrows():\n",
    "    article_text = row['Texto_articulo']\n",
    "    \n",
    "    # Solo dividir si el artículo es más largo que el tamaño de chunk\n",
    "    if len(article_text) > 1000:\n",
    "        splits = splitter.split_text(article_text)\n",
    "        for split in splits:\n",
    "            documents.append(\n",
    "                Document(\n",
    "                    page_content=split,\n",
    "                    metadata={'Articulo': row['Articulo']}\n",
    "                )\n",
    "            )\n",
    "    else:\n",
    "        # Si no es largo, añadirlo sin dividir\n",
    "        documents.append(\n",
    "            Document(\n",
    "                page_content=article_text,\n",
    "                metadata={'Articulo': row['Articulo']}\n",
    "            )\n",
    "        )"
   ]
  },
  {
   "cell_type": "code",
   "execution_count": 126,
   "id": "61456f62-1e2d-4534-bdc1-1cc72e475a25",
   "metadata": {},
   "outputs": [
    {
     "name": "stdout",
     "output_type": "stream",
     "text": [
      "Generated vectors of length 768\n",
      "\n",
      "[0.07067478, 0.06767536, -0.15741661, -0.024718808, -0.022629263, -0.042506766, -0.004066997, -0.05207465, -0.0013712747, 0.069366604]\n"
     ]
    }
   ],
   "source": [
    "from langchain_ollama import OllamaEmbeddings\n",
    "\n",
    "embeddings = OllamaEmbeddings(model=\"nomic-embed-text\")\n",
    "\n",
    "\n",
    "vector_1 = embeddings.embed_query(documents[0].page_content)\n",
    "vector_2 = embeddings.embed_query(documents[1].page_content)\n",
    "\n",
    "assert len (vector_1) == len(vector_2)\n",
    "\n",
    "print(f\"Generated vectors of length {len(vector_1)}\\n\")\n",
    "print(vector_1[:10])"
   ]
  },
  {
   "cell_type": "code",
   "execution_count": 127,
   "id": "afc66c4d-e839-48aa-a858-6a607cf9e0ea",
   "metadata": {},
   "outputs": [
    {
     "data": {
      "text/plain": [
       "354"
      ]
     },
     "execution_count": 127,
     "metadata": {},
     "output_type": "execute_result"
    }
   ],
   "source": [
    "from langchain_core.vectorstores import InMemoryVectorStore\n",
    "\n",
    "vector_store = InMemoryVectorStore(embeddings)\n",
    "len(vector_store.add_documents(documents))\n"
   ]
  },
  {
   "cell_type": "code",
   "execution_count": 128,
   "id": "26f940d2-2d54-49e7-b996-5afb19d1b389",
   "metadata": {},
   "outputs": [],
   "source": [
    "ids = vector_store.add_documents(documents=documents)"
   ]
  },
  {
   "cell_type": "code",
   "execution_count": 129,
   "id": "8158ef30-5a9f-4aad-8f6e-46baddd4fafc",
   "metadata": {},
   "outputs": [
    {
     "name": "stdout",
     "output_type": "stream",
     "text": [
      "page_content='Todo  Ley N° 19.496 Art. 46 D.O. 07.03.1997 fabricante, importador o distribuidor de bienes o prestador de servicios que, con posterioridad a la introducción de ellos en el mercado, se percate de la existencia de peligros o riesgos no previstos oportunamente, deberá ponerlos, sin demora, en conocimiento de la autoridad competente para que se adopten las medidas preventivas o correctivas que el caso amerite, sin perjuicio de cumplir con las obligaciones de advertencia a los consumidores señaladas en el artículo precedente.' metadata={'Articulo': 'Artículo 46.-'}\n"
     ]
    }
   ],
   "source": [
    "results = vector_store.similarity_search(\n",
    "    \"Según el Artículo 46 de la Ley N° 19.496, ¿qué debe hacer un fabricante, importador, distribuidor o prestador de servicios si detecta peligros no previstos en sus productos o servicios después de haberlos introducido al mercado?\"\n",
    ")\n",
    "print(results[0])"
   ]
  },
  {
   "cell_type": "code",
   "execution_count": 130,
   "id": "1bf46a2b-0b7b-4c27-b3c5-41b7b254412e",
   "metadata": {},
   "outputs": [
    {
     "name": "stdout",
     "output_type": "stream",
     "text": [
      "page_content='Todo  Ley N° 19.496 Art. 46 D.O. 07.03.1997 fabricante, importador o distribuidor de bienes o prestador de servicios que, con posterioridad a la introducción de ellos en el mercado, se percate de la existencia de peligros o riesgos no previstos oportunamente, deberá ponerlos, sin demora, en conocimiento de la autoridad competente para que se adopten las medidas preventivas o correctivas que el caso amerite, sin perjuicio de cumplir con las obligaciones de advertencia a los consumidores señaladas en el artículo precedente.' metadata={'Articulo': 'Artículo 46.-'}\n"
     ]
    }
   ],
   "source": [
    "results_async = await vector_store.asimilarity_search(\n",
    "    \"Según el Artículo 46 de la Ley N° 19.496, ¿qué debe hacer un fabricante, importador, distribuidor o prestador de servicios si detecta peligros no previstos en sus productos o servicios después de haberlos introducido al mercado?\"\n",
    ")\n",
    "print(results_async[0])"
   ]
  },
  {
   "cell_type": "code",
   "execution_count": 121,
   "id": "a69a29a9-6834-4e87-9015-025048ecfb54",
   "metadata": {},
   "outputs": [
    {
     "name": "stdout",
     "output_type": "stream",
     "text": [
      "Score: 0.8219663837298038\n",
      "\n",
      "page_content='Todo  Ley N° 19.496 Art. 46 D.O. 07.03.1997 fabricante, importador o distribuidor de bienes o prestador de servicios que, con posterioridad a la introducción de ellos en el mercado, se percate de la existencia de peligros o riesgos no previstos oportunamente, deberá ponerlos, sin demora, en conocimiento de la autoridad competente para que se adopten las medidas preventivas o correctivas que el caso amerite, sin perjuicio de cumplir con las obligaciones de advertencia a los consumidores señaladas en el artículo precedente.' metadata={'Articulo': 'Artículo 46.-'}\n"
     ]
    }
   ],
   "source": [
    "# Note that providers implement different scores; the score here\n",
    "# is a distance metric that varies inversely with similarity.\n",
    "\n",
    "results = vector_store.similarity_search_with_score(\"Según el Artículo 46 de la Ley N° 19.496, ¿qué debe hacer un fabricante, importador, distribuidor o prestador\")\n",
    "doc, score = results[0]\n",
    "print(f\"Score: {score}\\n\")\n",
    "print(doc)"
   ]
  },
  {
   "cell_type": "code",
   "execution_count": 122,
   "id": "00416b61-efe0-401f-9a50-7fb930330bba",
   "metadata": {},
   "outputs": [
    {
     "name": "stdout",
     "output_type": "stream",
     "text": [
      "page_content='Todo  Ley N° 19.496 Art. 46 D.O. 07.03.1997 fabricante, importador o distribuidor de bienes o prestador de servicios que, con posterioridad a la introducción de ellos en el mercado, se percate de la existencia de peligros o riesgos no previstos oportunamente, deberá ponerlos, sin demora, en conocimiento de la autoridad competente para que se adopten las medidas preventivas o correctivas que el caso amerite, sin perjuicio de cumplir con las obligaciones de advertencia a los consumidores señaladas en el artículo precedente.' metadata={'Articulo': 'Artículo 46.-'}\n"
     ]
    }
   ],
   "source": [
    "embedding = embeddings.embed_query(\"Según el Artículo 46 de la Ley N° 19.496, ¿qué debe hacer un fabricante, importador, distribuidor o prestador\")\n",
    "\n",
    "results = vector_store.similarity_search_by_vector(embedding)\n",
    "print(results[0])"
   ]
  },
  {
   "cell_type": "code",
   "execution_count": 131,
   "id": "e5583f66-bc61-44b8-9232-82fcb5b8c1ad",
   "metadata": {},
   "outputs": [
    {
     "data": {
      "text/plain": [
       "[[Document(id='a7e81216-80cd-4b6f-bdda-cdbc3b46930c', metadata={'Articulo': 'Artículo 46.-'}, page_content='Todo  Ley N° 19.496 Art. 46 D.O. 07.03.1997 fabricante, importador o distribuidor de bienes o prestador de servicios que, con posterioridad a la introducción de ellos en el mercado, se percate de la existencia de peligros o riesgos no previstos oportunamente, deberá ponerlos, sin demora, en conocimiento de la autoridad competente para que se adopten las medidas preventivas o correctivas que el caso amerite, sin perjuicio de cumplir con las obligaciones de advertencia a los consumidores señaladas en el artículo precedente.')],\n",
       " [Document(id='19628b80-e9bb-41d7-b5a2-898bb95477cb', metadata={'Articulo': 'Artículo 14.-'}, page_content='Cuando Ley N° 19.496 Art. 14 D.O. 07.03.1997  con conocimiento del proveedor se expendan productos con alguna deficiencia usados o refaccionados o cuando se ofrezcan productos en cuya  Ley N° 19.955 Art. único N° 14  D.O. 14.07.2004 fabricación o elaboración se hayan utilizado partes o piezas usadas, se deberán informar de manera expresa las circunstancias antes mencionadas al consumidor, antes de que éste decida la operación de compra. Será bastante constancia el usar en los propios artículos, en sus envoltorios, en avisos o carteles visibles en sus locales de atención al público las expresiones \"segunda selección\", \"hecho con materiales usados\" u otras equivalentes. \\xa0 \\xa0  El cumplimiento de Ley N° 19.496 Art. 14 D.O. 07.03.1997  lo dispuesto en el inciso anterior eximirá al proveedor de las obligaciones derivadas del derecho de opción que se establece en los artículos 19 y 20, sin perjuicio de aquellas que hubiera contraído el proveedor en virtud de la garantía otorgada al producto.')]]"
      ]
     },
     "execution_count": 131,
     "metadata": {},
     "output_type": "execute_result"
    }
   ],
   "source": [
    "from typing import List\n",
    "\n",
    "from langchain_core.runnables import chain\n",
    "\n",
    "@chain\n",
    "def retriever(query: str) -> List[Document]:\n",
    "    return vector_store.similarity_search(query,k=1)\n",
    "\n",
    "retriever.batch(\n",
    "    [\n",
    "        \"Según el Artículo 46 de la Ley N° 19.496, ¿qué debe hacer un fabricante, importador, distribuidor o prestador\",\n",
    "        \"Según el Artículo 2 de la Ley N° 19.496, ¿qué derechos tienen los consumidores en cuanto a la igualdad de trato por parte de los proveedores?\"\n",
    "    ]\n",
    ")"
   ]
  },
  {
   "cell_type": "code",
   "execution_count": 124,
   "id": "ef74821f-b745-4818-8937-4344276ccd14",
   "metadata": {},
   "outputs": [
    {
     "name": "stdout",
     "output_type": "stream",
     "text": [
      "\n",
      "Pregunta 1: ¿Qué establece el Artículo 2 sobre el trato igualitario a los consumidores?\n",
      "- Artículo: Artículo 48.-\n",
      "  Contenido: En el Ley N° 19.496 Art. 48 D.O. 07.03.1997  supuesto a que se refiere el inciso primero del artículo anterior, el proveedor de la mercancía deberá, a su costa, cambiarla a los consumidores por otra inocua, de utilidad análoga y de valor equivalente. De no ser ello posible, deberá restituirles lo qu...\n",
      "\n",
      "- Artículo: Artículo 48.-\n",
      "  Contenido: En el Ley N° 19.496 Art. 48 D.O. 07.03.1997  supuesto a que se refiere el inciso primero del artículo anterior, el proveedor de la mercancía deberá, a su costa, cambiarla a los consumidores por otra inocua, de utilidad análoga y de valor equivalente. De no ser ello posible, deberá restituirles lo qu...\n",
      "\n",
      "- Artículo: Artículo 48.-\n",
      "  Contenido: En el Ley N° 19.496 Art. 48 D.O. 07.03.1997  supuesto a que se refiere el inciso primero del artículo anterior, el proveedor de la mercancía deberá, a su costa, cambiarla a los consumidores por otra inocua, de utilidad análoga y de valor equivalente. De no ser ello posible, deberá restituirles lo qu...\n",
      "\n",
      "\n",
      "Pregunta 2: ¿Qué debe hacer un proveedor si descubre defectos en un producto ya en el mercado?\n",
      "- Artículo: Artículo 22.-\n",
      "  Contenido: Los productos  Ley N° 19.496 Art. 22 D.O. 07.03.1997 que los proveedores, siendo éstos distribuidores o comerciantes, hubieren debido reponer a los consumidores y aquellos por los que devolvieron la cantidad recibida en pago, deberán serles restituidos, contra su entrega, por la persona de quien los...\n",
      "\n",
      "- Artículo: Artículo 22.-\n",
      "  Contenido: Los productos  Ley N° 19.496 Art. 22 D.O. 07.03.1997 que los proveedores, siendo éstos distribuidores o comerciantes, hubieren debido reponer a los consumidores y aquellos por los que devolvieron la cantidad recibida en pago, deberán serles restituidos, contra su entrega, por la persona de quien los...\n",
      "\n",
      "- Artículo: Artículo 22.-\n",
      "  Contenido: Los productos  Ley N° 19.496 Art. 22 D.O. 07.03.1997 que los proveedores, siendo éstos distribuidores o comerciantes, hubieren debido reponer a los consumidores y aquellos por los que devolvieron la cantidad recibida en pago, deberán serles restituidos, contra su entrega, por la persona de quien los...\n",
      "\n",
      "\n",
      "Pregunta 3: ¿Qué derechos tiene un consumidor al comprar un producto usado?\n",
      "- Artículo: Artículo 19.-\n",
      "  Contenido: El consumidor Ley N° 19.496 Art. 19 D.O. 07.03.1997  tendrá derecho a la reposición del producto o, en su defecto, a optar por la bonificación de su valor en la compra de otro o por la devolución del precio que haya pagado en exceso, cuando la cantidad o el contenido neto de un producto sea inferior...\n",
      "\n",
      "- Artículo: Artículo 19.-\n",
      "  Contenido: El consumidor Ley N° 19.496 Art. 19 D.O. 07.03.1997  tendrá derecho a la reposición del producto o, en su defecto, a optar por la bonificación de su valor en la compra de otro o por la devolución del precio que haya pagado en exceso, cuando la cantidad o el contenido neto de un producto sea inferior...\n",
      "\n",
      "- Artículo: Artículo 19.-\n",
      "  Contenido: El consumidor Ley N° 19.496 Art. 19 D.O. 07.03.1997  tendrá derecho a la reposición del producto o, en su defecto, a optar por la bonificación de su valor en la compra de otro o por la devolución del precio que haya pagado en exceso, cuando la cantidad o el contenido neto de un producto sea inferior...\n",
      "\n"
     ]
    }
   ],
   "source": [
    "retriever = vector_store.as_retriever(\n",
    "    search_type=\"similarity\",\n",
    "    search_kwargs={\"k\": 3}  # puedes ajustar el número de resultados\n",
    ")\n",
    "\n",
    "questions = [\n",
    "    \"¿Qué establece el Artículo 2 sobre el trato igualitario a los consumidores?\",\n",
    "    \"¿Qué debe hacer un proveedor si descubre defectos en un producto ya en el mercado?\",\n",
    "    \"¿Qué derechos tiene un consumidor al comprar un producto usado?\",\n",
    "]\n",
    "\n",
    "results = retriever.batch(questions)\n",
    "\n",
    "for i, res in enumerate(results):\n",
    "    print(f\"\\nPregunta {i+1}: {questions[i]}\")\n",
    "    for doc in res:\n",
    "        print(f\"- Artículo: {doc.metadata['Articulo']}\")\n",
    "        print(f\"  Contenido: {doc.page_content[:300]}...\\n\")\n"
   ]
  },
  {
   "cell_type": "markdown",
   "id": "6519b97b-01e0-4ada-83b0-9092feb083a3",
   "metadata": {},
   "source": [
    "Ahora implementaremos el modelo RAG"
   ]
  }
 ],
 "metadata": {
  "kernelspec": {
   "display_name": "Python 3 (ipykernel)",
   "language": "python",
   "name": "python3"
  },
  "language_info": {
   "codemirror_mode": {
    "name": "ipython",
    "version": 3
   },
   "file_extension": ".py",
   "mimetype": "text/x-python",
   "name": "python",
   "nbconvert_exporter": "python",
   "pygments_lexer": "ipython3",
   "version": "3.13.0"
  }
 },
 "nbformat": 4,
 "nbformat_minor": 5
}
