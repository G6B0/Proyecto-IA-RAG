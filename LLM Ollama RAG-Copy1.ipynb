{
 "cells": [
  {
   "cell_type": "code",
   "execution_count": 1,
   "id": "ba306d95-3e79-4f54-b130-a5cb45cb94e3",
   "metadata": {},
   "outputs": [],
   "source": [
    "#Se debe tener instalado Ollama de manera local para que corra\n",
    "from langchain_ollama import ChatOllama\n",
    "\n",
    "llm= ChatOllama(model=\"llama3:8b\")"
   ]
  },
  {
   "cell_type": "code",
   "execution_count": 2,
   "id": "99de3c6e-7dd5-46b9-b9b1-8b7fca57c2c5",
   "metadata": {},
   "outputs": [],
   "source": [
    "from langchain_ollama import OllamaEmbeddings\n",
    "\n",
    "embeddings = OllamaEmbeddings(model=\"nomic-embed-text\")"
   ]
  },
  {
   "cell_type": "markdown",
   "id": "4b9765f7-400a-41ce-bc1b-a1fa00d800c5",
   "metadata": {},
   "source": [
    "Ahora definiremos una manera de guardar la información de forma vectorial"
   ]
  },
  {
   "cell_type": "code",
   "execution_count": 3,
   "id": "b2164aad-5999-4355-9a54-a32a43800691",
   "metadata": {},
   "outputs": [],
   "source": [
    "#De manera local\n",
    "from langchain_core.vectorstores import InMemoryVectorStore\n",
    "\n",
    "vector_store = InMemoryVectorStore(embeddings)\n",
    "vector_store_fallos = InMemoryVectorStore(embeddings)"
   ]
  },
  {
   "cell_type": "markdown",
   "id": "ee56e254-1064-4179-ab0a-7ffe1e2851f8",
   "metadata": {},
   "source": [
    "Ahora crearemos la base de datos en base a Ley_Consumidor.csv"
   ]
  },
  {
   "cell_type": "code",
   "execution_count": 4,
   "id": "b37012e7-3741-4528-bd2c-c7072f50260b",
   "metadata": {},
   "outputs": [],
   "source": [
    "from langchain_core.documents import Document\n",
    "from langchain_text_splitters import RecursiveCharacterTextSplitter\n",
    "\n",
    "def Cargar_documentos_csv(df):\n",
    "    splitter = RecursiveCharacterTextSplitter( chunk_size = 1000, chunk_overlap=100, add_start_index=True)\n",
    "\n",
    "    documents = []\n",
    "    for index, columna in df.iterrows():\n",
    "        Texto_articulo = columna['Texto_articulo']\n",
    "        articulo = str(columna['Articulo'])\n",
    "        \n",
    "        if len(Texto_articulo) > 1000:\n",
    "            splits = splitter.split_text(Texto_articulo)\n",
    "            for split in splits:\n",
    "                documents.append(\n",
    "                    Document( page_content =split, metadata={'Articulo': articulo})\n",
    "                )\n",
    "        else:\n",
    "            documents.append(\n",
    "                Document( page_content =Texto_articulo, metadata= {'Articulo': articulo})\n",
    "            )\n",
    "    return documents"
   ]
  },
  {
   "cell_type": "code",
   "execution_count": 5,
   "id": "10432aa5-9f2e-4ca6-ac1c-caf52b94884a",
   "metadata": {},
   "outputs": [],
   "source": [
    "def Cargar_documentos_fallos_csv(df):\n",
    "    splitter = RecursiveCharacterTextSplitter( chunk_size = 2000, chunk_overlap=200, add_start_index=True)\n",
    "\n",
    "    documents = []\n",
    "    for index, columna in df.iterrows():\n",
    "        Texto_sentencia = columna['Texto_sentencia']\n",
    "        Leyes_mencionadas = columna['Leyes_mencionadas']\n",
    "        Rol = columna['Rol']\n",
    "        Fecha_sentencia = str(columna['Fecha_Sentencia'])\n",
    "        Corte_origen = columna['Corte de origen']\n",
    "        \n",
    "        \n",
    "        splits = splitter.split_text(Texto_sentencia)\n",
    "        \n",
    "        for split in splits:\n",
    "            if len(Texto_sentencia) > 1500:\n",
    "                \n",
    "                documents.append(\n",
    "                     Document(\n",
    "                         page_content = split,\n",
    "                         metadata={\n",
    "                         'Rol': Rol,\n",
    "                            'Fecha Sentencia': Fecha_sentencia,\n",
    "                            'Corte de origen': Corte_origen,\n",
    "                            'Leyes mencionadas': Leyes_mencionadas\n",
    "                        })\n",
    "                )\n",
    "            else:\n",
    "                \n",
    "                documents.append(\n",
    "                Document(\n",
    "                    page_content = Texto_sentencia,\n",
    "                    metadata={\n",
    "                        'Rol': Rol,\n",
    "                        'Fecha Sentencia': Fecha_sentencia,\n",
    "                        'Corte de origen': Corte_origen,\n",
    "                        'Leyes mencionadas': Leyes_mencionadas\n",
    "                    }\n",
    "                    )\n",
    "                )\n",
    "    return documents"
   ]
  },
  {
   "cell_type": "code",
   "execution_count": 6,
   "id": "5935ca72-8282-4d71-bae0-52b4518f03c3",
   "metadata": {
    "scrolled": true
   },
   "outputs": [],
   "source": [
    "import pandas as pd\n",
    "\n",
    "df = pd.read_csv(\"Ley_consumidor.csv\")\n",
    "df2 = pd.read_csv(\"Fallos_judiciales_ley_19.496.csv\")"
   ]
  },
  {
   "cell_type": "code",
   "execution_count": 7,
   "id": "5fd87b5d-72af-4299-980f-c13508c80472",
   "metadata": {},
   "outputs": [
    {
     "name": "stdout",
     "output_type": "stream",
     "text": [
      "Total characters: 1639\n"
     ]
    }
   ],
   "source": [
    "#Haremos split en chunks y cargaremos en documentos el DataFrame\n",
    "docs_fallo = Cargar_documentos_fallos_csv(df2)\n",
    "print(f\"Total characters: {len(docs_fallo[12].page_content)}\")"
   ]
  },
  {
   "cell_type": "code",
   "execution_count": 8,
   "id": "1e2fd101-48f0-425d-acd4-390194e6c20a",
   "metadata": {},
   "outputs": [
    {
     "name": "stdout",
     "output_type": "stream",
     "text": [
      "Total characters: 501\n"
     ]
    }
   ],
   "source": [
    "docs = Cargar_documentos_csv(df)\n",
    "print(f\"Total characters: {len(docs[12].page_content)}\")"
   ]
  },
  {
   "cell_type": "markdown",
   "id": "1348f11d-24ae-4a5a-9790-0d96fadd39e6",
   "metadata": {},
   "source": [
    "Donde podemos ver que en la posicion 12 de docs encontramos el articulo N°2 ter del DataFrame"
   ]
  },
  {
   "cell_type": "code",
   "execution_count": 9,
   "id": "3ae9698e-2257-43fd-b8f1-c4552464f4cb",
   "metadata": {},
   "outputs": [
    {
     "name": "stdout",
     "output_type": "stream",
     "text": [
      "page_content='Las  Ley 21398 Art. 1 N° 2 D.O. 24.12.2021 normas contenidas en esta ley se interpretarán siempre en favor de los consumidores, de acuerdo con el principio pro consumidor, y, de manera complementaria, según las reglas contenidas en el párrafo 4° del Título Preliminar del Código Civil. TÍTU Ley N° 19.496 D.O. 07.03.1997 LO II      Disposiciones Ley N° 19.496 D.O. 07.03.1997  generales Párrafo 1º Ley N° 19.496 D.O. 07.03.1997      Los derechos Ley N° 19.496 D.O. 07.03.1997  y deberes del consumidor' metadata={'Articulo': 'Artículo 2 ter.-'}\n"
     ]
    }
   ],
   "source": [
    "print(docs[12])"
   ]
  },
  {
   "cell_type": "markdown",
   "id": "da7f8e64-dc66-4193-bed6-78066f8d2074",
   "metadata": {},
   "source": [
    "Guardando los documentos"
   ]
  },
  {
   "cell_type": "code",
   "execution_count": 10,
   "id": "ecc049d0-e6c6-40b8-ae30-1553d0b1d3cb",
   "metadata": {},
   "outputs": [
    {
     "name": "stdout",
     "output_type": "stream",
     "text": [
      "['3d72028a-5674-494a-ac62-8a45599e3587', '14c90132-f194-4919-b430-d561321efff1', 'dab0270c-4417-427f-b8f8-b8903732ec15']\n"
     ]
    }
   ],
   "source": [
    "docs_fallo_ids = vector_store_fallos.add_documents(documents=docs_fallo)\n",
    "print(docs_fallo_ids[:3])"
   ]
  },
  {
   "cell_type": "code",
   "execution_count": 11,
   "id": "1b6d66a1-d89a-4599-99b2-49238f74a067",
   "metadata": {},
   "outputs": [
    {
     "name": "stdout",
     "output_type": "stream",
     "text": [
      "['eece99a3-96cf-4418-85cf-6031f4869ad3', '4e84f97b-73ed-448e-8cde-41c4dd0639b7', '190cc92a-f40e-406e-8f8f-5299708a95d7']\n"
     ]
    }
   ],
   "source": [
    "docs_ids = vector_store.add_documents(documents=docs)\n",
    "print(docs_ids[:3])"
   ]
  },
  {
   "cell_type": "markdown",
   "id": "adc215af-259a-42dd-b71b-588dbecb6ed1",
   "metadata": {},
   "source": [
    "Ahora iniciaremos con el Retrieval and Generation (RG)"
   ]
  },
  {
   "cell_type": "markdown",
   "id": "cd7fb33d-ead3-4a25-bc53-288adc679a69",
   "metadata": {},
   "source": [
    "Definimos el Prompt"
   ]
  },
  {
   "cell_type": "code",
   "execution_count": 16,
   "id": "ef0cc1ec-7d3d-4d8b-b06b-5eeb27f502be",
   "metadata": {},
   "outputs": [],
   "source": [
    "from langchain_core.prompts import ChatPromptTemplate\n",
    "\n",
    "prompt = ChatPromptTemplate.from_template(\"\"\"\n",
    "Redacta una denuncia para ser presentada.\n",
    "\n",
    "A continuación tienes dos bloques de contexto que debes usar para elaborar la denuncia:\n",
    "\n",
    "**Contexto legal** – Fragmentos de la Ley 19.496 sobre Protección de los Derechos de los Consumidores:\n",
    "----------------\n",
    "{context}\n",
    "----------------\n",
    "\n",
    "**Jurisprudencia relacionada** – Fallos judiciales previos que abordan situaciones similares:\n",
    "----------------\n",
    "{context_fallo}\n",
    "----------------\n",
    "\n",
    "**Pregunta del usuario:**\n",
    "{question}\n",
    "\n",
    "**Instrucciones para tu respuesta:**\n",
    "- Usa un lenguaje claro, técnico pero entendible para una persona no experta.\n",
    "- Cita explícitamente los artículos aplicables, agrupándolos según su propósito.\n",
    "- Si hay un Fallo judicial que respalde el caso, menciónalo indicando el Rol, la Corte y la fecha.\n",
    "\n",
    "**Respuesta:**\n",
    "\"\"\")\n"
   ]
  },
  {
   "cell_type": "markdown",
   "id": "1389badb-3a61-4c6b-9abf-7fb2bf837ecb",
   "metadata": {},
   "source": [
    "Estado y funciones de RAG"
   ]
  },
  {
   "cell_type": "code",
   "execution_count": 13,
   "id": "b49caaea-7c73-443c-9d84-ff79ce7070d6",
   "metadata": {},
   "outputs": [],
   "source": [
    "from typing import TypedDict, List\n",
    "\n",
    "class State(TypedDict):\n",
    "    question: str\n",
    "    context: List[Document]\n",
    "    context_fallo: List[Document]\n",
    "    answer: str\n",
    "\n",
    "def retrieve(state: State):\n",
    "    pregunta = state[\"question\"]\n",
    "    retrieved_docs = vector_store.similarity_search(pregunta)\n",
    "    return {\"context\": retrieved_docs}\n",
    "\n",
    "def retrieve_fallos(state: State):\n",
    "    pregunta = state[\"question\"]\n",
    "    retrieved_docs_fallo = vector_store_fallos.similarity_search(pregunta)\n",
    "    return {\"context_fallo\": retrieved_docs_fallo}\n",
    "\n",
    "def generate(state: State):\n",
    "    if not state[\"context\"]:\n",
    "        return {\"answer\": \"No tengo suficiente contexto para responder.\"}\n",
    "    if not state[\"context_fallo\"]:\n",
    "        print(\"No tengo un caso parecido en mi base de datos\")\n",
    "    \n",
    "    # 🔁 Eliminar duplicados por contenido para Context\n",
    "    unique_docs = []\n",
    "    seen_contents = set()\n",
    "    for doc in state[\"context\"]:\n",
    "        if doc.page_content not in seen_contents:\n",
    "            unique_docs.append(doc)\n",
    "            seen_contents.add(doc.page_content)\n",
    "\n",
    "    # Unir contenido limpio para Context\n",
    "    docs_content = \"\\n\\n\".join(doc.page_content for doc in unique_docs)\n",
    "    print(\"\\n docs_content:\")\n",
    "    print(docs_content)\n",
    "\n",
    "    # 🔁 Eliminar duplicados por contenido para Context_fallo\n",
    "    unique_docs_fallo = []\n",
    "    seen_contents_fallo = set()\n",
    "    for fallo in state[\"context_fallo\"]:\n",
    "        if fallo.page_content not in seen_contents_fallo:\n",
    "            unique_docs_fallo.append(fallo)\n",
    "            seen_contents_fallo.add(fallo.page_content)\n",
    "\n",
    "    # Unir contenido limpio para Context_fallo\n",
    "    docs_content_fallo = \"\\n\\n\".join(fallo.page_content for fallo in unique_docs_fallo)\n",
    "    print(\"\\n docs_content_fallo:\")\n",
    "    print(docs_content_fallo)\n",
    "\n",
    "    \n",
    "    final_prompt = prompt.invoke({\n",
    "        \"question\": state[\"question\"],\n",
    "        \"context\": docs_content,\n",
    "        \"context_fallo\": docs_content_fallo\n",
    "    })\n",
    "\n",
    "    response = llm.invoke(final_prompt)\n",
    "    \n",
    "    # Agregar metadata de artículos como fuentes\n",
    "    articles = set()\n",
    "    for doc in unique_docs:\n",
    "        metadata = getattr(doc, \"metadata\", {})\n",
    "        articulo = metadata.get(\"Articulo\")\n",
    "        if articulo:\n",
    "            articles.add(articulo)\n",
    "            \n",
    "        print(\"Metadata:\", metadata)  # debug\n",
    "    \n",
    "    sources = \"\\n\\nArtículos utilizados como fuente:\\n\" + \"\\n\".join(f\"- {a}\" for a in sorted(articles))\n",
    "\n",
    "    metadata_fuentes_fallos = set()\n",
    "    for fallo in unique_docs_fallo:\n",
    "        metadata = getattr(fallo,\"metadata\", {})\n",
    "        for k, v in metadata.items():\n",
    "            metadata_fuentes_fallos.add(f\"{k}: {v}\")\n",
    "\n",
    "        print(\"Metadata_fallos:\",metadata_fuentes_fallos)\n",
    "    sources_fallos = \"\\n\\nMetadatos de fallos utilizados como fuente:\\n\" + \"\\n\".join(f\" - {a}\" for a in sorted(metadata_fuentes_fallos))    \n",
    "    \n",
    "    return {\"answer\": f\"{response.content.strip()}\\n\\n{sources.strip()}\\n\\n{sources_fallos.strip()}\"}\n",
    "\n"
   ]
  },
  {
   "cell_type": "code",
   "execution_count": 17,
   "id": "0c63c456-e31c-4c19-bb9f-d4fe623587c1",
   "metadata": {},
   "outputs": [
    {
     "name": "stdout",
     "output_type": "stream",
     "text": [
      "\n",
      " docs_content:\n",
      "La r Ley N° 21.081 Art. 1 N° 39 D.O. 13.09.2018 esolución que dé inicio al procedimiento, cuando haya sido dictada en virtud de una denuncia fundada de una asociación de consumidores, ordenará su participación, salvo manifestación en contrario de ésta en la misma denuncia.\n",
      "\n",
      "dar cumplimiento a lo señalado en la respuesta del servicio de atención al cliente en el plazo de cinco días hábiles, contado desde la comunicación al consumidor.      En caso Ley N° 20.555 Art. 1 N° 6 D.O. 05.12.2011  de incumplimiento de las obligaciones indicadas en los dos incisos anteriores, el Servicio Nacional del Consumidor deberá denunciar al proveedor ante el juez de policía local competente, para que, si procediere, se le sancione con una multa de hasta cincuenta unidades tributarias mensuales, sin perjuicio del derecho del consumidor afectado para denunciar el incumplimiento de las obligaciones referidas.\n",
      "\n",
      "las denuncias puede realizarse a título  Ley N° 21.081 Art. 1 N° 22 D.O. 13.09.2018 individual. El ejercicio de las acciones puede efectuarse tanto a título individual como en beneficio del interés colectivo o difuso de los consumidores. Ley N° 19.496 Art. 50 D.O. 07.03.1997      Se considerarán de interés individual a las denuncias o acciones que se promueven exclusivamente en defensa de los  Ley N° 19.955 Art. único N° 26  D.O. 14.07.2004 derechos del consumidor afectado.      Se considerarán de interés colectivo a las acciones que  Ley N° 21.081 Art. 1 N° 22 D.O. 13.09.2018 se promueven en defensa de derechos comunes a un conjunto determinado o determinable de consumidores, ligados con un proveedor por un vínculo contractual. Son de interés difuso  Ley N° 19.955 Art. único N° 26  D.O. 14.07.2004 las acciones que se promueven en defensa de un conjunto indeterminado de consumidores afectados en sus derechos. Ley N° 21.081 Art. 1 N° 22 D.O. 13.09.2018      Para los efectos de\n",
      "\n",
      "de manera inequívoca, destacada y fácilmente accesible, en forma previa a la suscripción del contrato y pago del precio del producto, y, en caso de que proceda, su exclusión. Un reglamento expedido a través del Ministerio de Economía, Fomento y Turismo regulará la forma y condiciones en que el proveedor deberá comunicar la exclusión del derecho a retracto cuando corresponda, así como los bienes en que excepcionalmente y por su naturaleza procederá tal exclusión.      Para poner término unilateralmente al contrato de conformidad con este artículo, el consumidor podrá utilizar los mismos medios que empleó para celebrar el contrato. En este caso, el plazo para ejercer el derecho de retracto se contará desde la fecha de recepción del bien o desde la celebración del contrato en el caso de servicios, siempre que el proveedor haya cumplido con la obligación de remitir la confirmación escrita señalada en el artículo 12 A. De no ser así, el plazo se extenderá a noventa días. No podrá ejercerse\n",
      "\n",
      " docs_content_fallo:\n",
      "CUARTO: Que, entonces, y hallándose establecida la responsabilidad infraccional de la empresa denunciada y demandada, resulta que dicha cuestión importa que en el caso de autos se ha generado una fuente de responsabilidad civil para ésta, como quiera que acreditada como se encuentra la relación de consumo y el hecho infraccional producido en el ámbito de ella, ha de darse aplicación a lo regulado en la Ley de Protección de los Derechos de los Consumidores, y, por ende, surge la responsabilidad en sede contractual sobre la que descansa la pretensión indemnizatoria, y esto último en la medida que se haya probado la existencia y monto de los perjuicios postulados.\n",
      "\n",
      "Agrega que el Supermercado cuenta con guardias y cámaras de seguridad en todo el recinto, por lo cual los hechos descritos por la actora no se produjeron debido a la negligencia de Hipermercado Líder, sino que aquello ocurrió no obstante haber desplegado el actuar que la ley le exige, esto es, con la debida diligencia en los términos del artículo 23 inciso 1° de la Ley 19.496. Por lo tanto, estima que estamos en presencia de un hecho realizado por terceros por el cual la denunciada no es responsable; y, por consiguiente, es constitutivo de caso fortuito, no imputable a Administradora de Supermercados Híper Limitada.\n",
      "\n",
      "Refiere también que, con relación al daño moral por el cual fue condenada, la sentenciadora incurrió en un error al denegar las tachas alegadas por su parte. Asimismo, en cuanto a la valoración que se efectúa respecto de los certificados médicos y certificados de discapacidad, lo cierto es que ello no guarda relación de causalidad alguna con el hecho que se imputa, puesto que se trata de documentos que sólo darían cuenta de la discapacidad de los hijos de la actora.\n",
      "\n",
      "Previas citas legales y jurisprudenciales, solicita se revoque la sentencia de primera instancia y, en su reemplazo se declare que se rechazan en todas sus partes la denuncia infraccional y la demanda civil. O bien, en subsidio de lo anterior, se confirme la sentencia impugnada con declaración que se reduce el monto de la multa la indemnización prudencialmente.\n",
      "\n",
      "Por estas consideraciones y de conformidad, además, con lo dispuesto en las disposiciones citadas y lo previsto en los artículos 32 y siguientes de la ley 18.287, artículos 50 y siguientes de la Ley N.º 19.496, y artículo 5º de la ley 20.009, se revoca la sentencia apelada de veintiocho de julio de dos mil veintidós, pronunciada por el Quinto Juzgado de Policía Local de Santiago y, en consecuencia, se acoge la demanda deducida declarándose que la demandada deberá restituir el abono normativo efectuado por el banco, más intereses desde que la sentencia quede ejecutoriada, autorizándose al banco a dejar sin efecto la cancelación de los cargos que dieron origen a esta demanda, sin costas.\n",
      "\n",
      "Regístrese y devuélvase.\n",
      "\n",
      "Redactó la ministra Carolina Vásquez Acevedo.\n",
      "\n",
      "N° 2099-2022 Policía Local.\n",
      "\n",
      "Pronunciada por la Décima Tercera Sala de la Corte de Apelaciones de Santiago integrada con los ministros Carolina Vásquez Acevedo, Patricio Martínez Benavides y Fiscal Judicial Carla Troncoso Bustamante.\n",
      "\n",
      "No firma la Fiscal Judicial Carla Troncoso Bustamante por encontrarse ausente.\n",
      "\n",
      "Quinto: Que, el reclamante funda su acción en el incumplimiento por parte de la Compañía General de Electricidad S.A., de lo resuelto por la Superintendencia de Electricidad y Combustibles en Oficio Ordinario N°256376, de 18 de noviembre de 2024, en el que dio lugar a su reclamo por artefactos dañados (variador de frecuencia cuya reparación asciende $1.428.228 según informe técnico), tras concluir que los daños provocados en los artefactos del usuario se deban a causas que derivan de fluctuaciones en la calidad y seguridad del suministro eléctrico, en base a los antecedentes acompañados (cotización e informe técnico, carta respuesta de CGE, de 8 de marzo de 2024, y boleta emitida por CGE en julio de 2024).\n",
      "\n",
      "Sexto: Que, para probar sus afirmaciones, el recurrente acompañó la carta DGR N°395670/2025, de 7 de enero de 2025, que recibió de parte CGE, que señala que “… [l]uego de analizar los antecedentes expuestos en su requerimiento, podemos señalar que, en la fecha indicada por usted, en nuestros sistemas se registran fallas de suministro eléctrico que pudiesen haber afectado la normal entrega del servicio, no obstante, el personal técnico constató que este tipo de falla no provoca daño en los artefactos eléctricos.\n",
      "\n",
      "En relación con lo anterior, podemos concluir que los daños producidos dentro de la propiedad son de responsabilidad del cliente y deben resolverse de forma particular, no correspondiendo a una responsabilidad por parte de esta compañía.\n",
      "Metadata: {'Articulo': 'Artículo 54 I.-'}\n",
      "Metadata: {'Articulo': 'Artículo 56.-'}\n",
      "Metadata: {'Articulo': 'Artículo 50.-'}\n",
      "Metadata: {'Articulo': 'Artículo 3° bis.-'}\n",
      "Metadata_fallos: {'Rol: 184-2023', 'Fecha Sentencia: 2025-05-16', 'Leyes mencionadas: Ninguna', 'Corte de origen:  C.A. de La Serena'}\n",
      "Metadata_fallos: {'Rol: 184-2023', 'Fecha Sentencia: 2025-05-16', 'Leyes mencionadas: Ninguna', 'Corte de origen:  C.A. de La Serena'}\n",
      "Metadata_fallos: {'Rol: 2099-2022', 'Rol: 184-2023', 'Fecha Sentencia: 2025-05-19', 'Corte de origen:  C.A. de La Serena', 'Leyes mencionadas: Ninguna', \"Leyes mencionadas: ['20.009']\", 'Fecha Sentencia: 2025-05-16', 'Corte de origen:  C.A. de Santiago'}\n",
      "Metadata_fallos: {'Fecha Sentencia: 2025-05-22', 'Rol: 555-2025', 'Rol: 2099-2022', 'Rol: 184-2023', 'Fecha Sentencia: 2025-05-19', 'Corte de origen:  C.A. de La Serena', 'Leyes mencionadas: Ninguna', \"Leyes mencionadas: ['20.009']\", 'Fecha Sentencia: 2025-05-16', 'Corte de origen:  C.A. de Santiago', 'Corte de origen:  C.A. de San Miguel'}\n",
      "**Denuncia**\n",
      "\n",
      "**Partes involucradas**: Yo (el consumidor) contra Compañía General de Electricidad S.A. (CGE)\n",
      "\n",
      "**Hechos presentados**: Debido a prolongados cortes de luz, sufrí daños económicos significativos, incluyendo la pérdida de alimentos y electrodomésticos. A pesar de haber presentado reclamos previamente sin recibir respuesta efectiva, considero que CGE ha incumplido con sus obligaciones como proveedor de servicios públicos.\n",
      "\n",
      "**Bases legales**:\n",
      "\n",
      "* Artículo 1º de la Ley N° 19.496: \"La responsabilidad del proveedor será objetiva si se prueba la causalidad entre el hecho y el daño causado, y subjetiva si se prueba la culpa o negligencia del proveedor.\"\n",
      "* Artículo 50 de la Ley N° 19.496: \"El ejercicio de las acciones puede efectuarse tanto a título individual como en beneficio del interés colectivo o difuso de los consumidores.\"\n",
      "\n",
      "**Hechos que respaldan la denuncia**: Presenté reclamos previamente y no recibí respuesta efectiva. A continuación, presento una lista detallada de los daños económicos que sufrí:\n",
      "\n",
      "* Pérdida de alimentos: $X\n",
      "* Daño a electrodomésticos: $Y\n",
      "* Otros gastos asociados: $Z\n",
      "\n",
      "**Fallos judiciales relevantes**: Rol N° 2099-2022 Policía Local, Corte de Apelaciones de Santiago, fecha 28 de julio de 2022. En este fallo, se estableció que la responsabilidad del proveedor es objetiva si se prueba la causalidad entre el hecho y el daño causado.\n",
      "\n",
      "**Reclamo**: Como consumidor afectado, solicito que CGE sea sancionada con una multa de hasta cincuenta unidades tributarias mensuales, según lo establecido en la Ley N° 20.555. Además, pido que se me indemnice el daño económico causado y se restituya el abono normativo efectuado.\n",
      "\n",
      "**Conclusión**: Considero que CGE ha incumplido con sus obligaciones como proveedor de servicios públicos y que los daños económicos que sufrí son consecuencia directa del prolongado corte de luz. Por lo tanto, solicito que se tome medidas para sancionar a CGE y indemnice mi daño económico.\n",
      "\n",
      "**Firma**: [Tu nombre]\n",
      "\n",
      "**Fecha**: [Fecha de presentación de la denuncia]\n",
      "\n",
      "Artículos utilizados como fuente:\n",
      "- Artículo 3° bis.-\n",
      "- Artículo 50.-\n",
      "- Artículo 54 I.-\n",
      "- Artículo 56.-\n",
      "\n",
      "Metadatos de fallos utilizados como fuente:\n",
      " - Corte de origen:  C.A. de La Serena\n",
      " - Corte de origen:  C.A. de San Miguel\n",
      " - Corte de origen:  C.A. de Santiago\n",
      " - Fecha Sentencia: 2025-05-16\n",
      " - Fecha Sentencia: 2025-05-19\n",
      " - Fecha Sentencia: 2025-05-22\n",
      " - Leyes mencionadas: Ninguna\n",
      " - Leyes mencionadas: ['20.009']\n",
      " - Rol: 184-2023\n",
      " - Rol: 2099-2022\n",
      " - Rol: 555-2025\n"
     ]
    }
   ],
   "source": [
    "state = {\"question\":\"quiero hacer una denuncia contra CGE por los daños económicos que sufrí debido a prolongados cortes de luz, incluyendo la pérdida de alimentos y electrodomésticos, considerando que ya presenté reclamos sin recibir respuesta efectiva\",\n",
    "         \"context\": [],\n",
    "         \"context_fallo\": [],\n",
    "         \"answer\": \"\"\n",
    "        }\n",
    "\n",
    "# 2. Llamar a la función `generate()` para obtener la respuesta\n",
    "state.update(retrieve(state))\n",
    "state.update(retrieve_fallos(state))\n",
    "state.update(generate(state))\n",
    "\n",
    "\n",
    "print(state[\"answer\"])"
   ]
  },
  {
   "cell_type": "code",
   "execution_count": null,
   "id": "387ce93c-7531-4e2e-8604-5af4b6de1c29",
   "metadata": {},
   "outputs": [],
   "source": []
  }
 ],
 "metadata": {
  "kernelspec": {
   "display_name": "Python 3 (ipykernel)",
   "language": "python",
   "name": "python3"
  },
  "language_info": {
   "codemirror_mode": {
    "name": "ipython",
    "version": 3
   },
   "file_extension": ".py",
   "mimetype": "text/x-python",
   "name": "python",
   "nbconvert_exporter": "python",
   "pygments_lexer": "ipython3",
   "version": "3.13.0"
  }
 },
 "nbformat": 4,
 "nbformat_minor": 5
}
